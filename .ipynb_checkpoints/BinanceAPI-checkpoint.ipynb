{
 "cells": [
  {
   "cell_type": "code",
   "execution_count": 1,
   "id": "1bcd41ff-544a-464c-9b80-067432eefd1a",
   "metadata": {},
   "outputs": [
    {
     "ename": "ModuleNotFoundError",
     "evalue": "No module named 'binance.client'; 'binance' is not a package",
     "output_type": "error",
     "traceback": [
      "\u001b[0;31m---------------------------------------------------------------------------\u001b[0m",
      "\u001b[0;31mModuleNotFoundError\u001b[0m                       Traceback (most recent call last)",
      "\u001b[0;32m<ipython-input-1-79316d7de1e2>\u001b[0m in \u001b[0;36m<module>\u001b[0;34m\u001b[0m\n\u001b[0;32m----> 1\u001b[0;31m \u001b[0;32mfrom\u001b[0m \u001b[0mbinance\u001b[0m\u001b[0;34m.\u001b[0m\u001b[0mclient\u001b[0m \u001b[0;32mimport\u001b[0m \u001b[0mClient\u001b[0m\u001b[0;34m\u001b[0m\u001b[0;34m\u001b[0m\u001b[0m\n\u001b[0m\u001b[1;32m      2\u001b[0m \u001b[0;32mimport\u001b[0m \u001b[0mnumpy\u001b[0m \u001b[0;32mas\u001b[0m \u001b[0mnp\u001b[0m\u001b[0;34m\u001b[0m\u001b[0;34m\u001b[0m\u001b[0m\n\u001b[1;32m      3\u001b[0m \u001b[0;32mimport\u001b[0m \u001b[0mpandas\u001b[0m \u001b[0;32mas\u001b[0m \u001b[0mpd\u001b[0m\u001b[0;34m\u001b[0m\u001b[0;34m\u001b[0m\u001b[0m\n\u001b[1;32m      4\u001b[0m \u001b[0;32mimport\u001b[0m \u001b[0mmatplotlib\u001b[0m\u001b[0;34m.\u001b[0m\u001b[0mpyplot\u001b[0m \u001b[0;32mas\u001b[0m \u001b[0mplt\u001b[0m\u001b[0;34m\u001b[0m\u001b[0;34m\u001b[0m\u001b[0m\n\u001b[1;32m      5\u001b[0m \u001b[0;32mimport\u001b[0m \u001b[0mseaborn\u001b[0m \u001b[0;32mas\u001b[0m \u001b[0msns\u001b[0m\u001b[0;34m\u001b[0m\u001b[0;34m\u001b[0m\u001b[0m\n",
      "\u001b[0;31mModuleNotFoundError\u001b[0m: No module named 'binance.client'; 'binance' is not a package"
     ]
    }
   ],
   "source": [
    "from binance.client import Client\n",
    "import numpy as np\n",
    "import pandas as pd\n",
    "import matplotlib.pyplot as plt\n",
    "import seaborn as sns\n",
    "import datetime as dt\n",
    "import ta as ta\n",
    "from binance import BinanceSocketManager, AsyncClient\n",
    "import nest_asyncio\n",
    "import sqlalchemy\n",
    "import asyncio"
   ]
  },
  {
   "cell_type": "code",
   "execution_count": 2,
   "id": "617f22fa-482c-491a-b39d-e366174e43b2",
   "metadata": {},
   "outputs": [],
   "source": [
    "#key = \"yy6YUWGLpkwZKdkxie6XCpLYAAEnkTm3ab27fbPcT5VtwQAXZFu1iDglGKA2bUak\"\n",
    "#secret = \"s5nvlXixNMECEfSEp4eX4wU7uv1nKVfG1iXGmk84EdjfwhQOb3jtL6Y8wdgF46Kj\"\n",
    "#client = Client(key, secret)"
   ]
  },
  {
   "cell_type": "code",
   "execution_count": 3,
   "id": "f01b315d-fed4-4edb-b8af-62bbe51319c6",
   "metadata": {},
   "outputs": [],
   "source": [
    "#bsm = BinanceSocketManager(client)"
   ]
  },
  {
   "cell_type": "code",
   "execution_count": 4,
   "id": "2706bd66-e5ab-433a-9734-b97d2df29fce",
   "metadata": {},
   "outputs": [],
   "source": [
    "nest_asyncio.apply()"
   ]
  },
  {
   "cell_type": "code",
   "execution_count": 5,
   "id": "de2a750f-3604-47fd-8baf-d7f678772525",
   "metadata": {},
   "outputs": [],
   "source": [
    "symbol = \"BNBUSDT\""
   ]
  },
  {
   "cell_type": "code",
   "execution_count": 6,
   "id": "59023aaa-9744-494c-baeb-d632afba3fee",
   "metadata": {},
   "outputs": [],
   "source": [
    "engine = sqlalchemy.create_engine(\"sqlite:///\"+ symbol + \"stream.db\")"
   ]
  },
  {
   "cell_type": "code",
   "execution_count": 8,
   "id": "2745db94-101a-40f0-86bc-1fb1ad55ae0f",
   "metadata": {},
   "outputs": [
    {
     "ename": "TypeError",
     "evalue": "As of 3.10, the *loop* parameter was removed from Queue() since it is no longer necessary",
     "output_type": "error",
     "traceback": [
      "\u001b[0;31m---------------------------------------------------------------------------\u001b[0m",
      "\u001b[0;31mTypeError\u001b[0m                                 Traceback (most recent call last)",
      "\u001b[1;32m/Users/adampesek/BinanceAPI.ipynb Cell 7'\u001b[0m in \u001b[0;36m<cell line: 14>\u001b[0;34m()\u001b[0m\n\u001b[1;32m     <a href='vscode-notebook-cell:/Users/adampesek/BinanceAPI.ipynb#ch0000006?line=13'>14</a>\u001b[0m \u001b[39mif\u001b[39;00m \u001b[39m__name__\u001b[39m \u001b[39m==\u001b[39m \u001b[39m\"\u001b[39m\u001b[39m__main__\u001b[39m\u001b[39m\"\u001b[39m:\n\u001b[1;32m     <a href='vscode-notebook-cell:/Users/adampesek/BinanceAPI.ipynb#ch0000006?line=15'>16</a>\u001b[0m     loop \u001b[39m=\u001b[39m asyncio\u001b[39m.\u001b[39mget_event_loop()\n\u001b[0;32m---> <a href='vscode-notebook-cell:/Users/adampesek/BinanceAPI.ipynb#ch0000006?line=16'>17</a>\u001b[0m     loop\u001b[39m.\u001b[39;49mrun_until_complete(main())\n",
      "File \u001b[0;32m/Library/Frameworks/Python.framework/Versions/3.10/lib/python3.10/site-packages/nest_asyncio.py:81\u001b[0m, in \u001b[0;36m_patch_loop.<locals>.run_until_complete\u001b[0;34m(self, future)\u001b[0m\n\u001b[1;32m     <a href='file:///Library/Frameworks/Python.framework/Versions/3.10/lib/python3.10/site-packages/nest_asyncio.py?line=77'>78</a>\u001b[0m \u001b[39mif\u001b[39;00m \u001b[39mnot\u001b[39;00m f\u001b[39m.\u001b[39mdone():\n\u001b[1;32m     <a href='file:///Library/Frameworks/Python.framework/Versions/3.10/lib/python3.10/site-packages/nest_asyncio.py?line=78'>79</a>\u001b[0m     \u001b[39mraise\u001b[39;00m \u001b[39mRuntimeError\u001b[39;00m(\n\u001b[1;32m     <a href='file:///Library/Frameworks/Python.framework/Versions/3.10/lib/python3.10/site-packages/nest_asyncio.py?line=79'>80</a>\u001b[0m         \u001b[39m'\u001b[39m\u001b[39mEvent loop stopped before Future completed.\u001b[39m\u001b[39m'\u001b[39m)\n\u001b[0;32m---> <a href='file:///Library/Frameworks/Python.framework/Versions/3.10/lib/python3.10/site-packages/nest_asyncio.py?line=80'>81</a>\u001b[0m \u001b[39mreturn\u001b[39;00m f\u001b[39m.\u001b[39;49mresult()\n",
      "File \u001b[0;32m/Library/Frameworks/Python.framework/Versions/3.10/lib/python3.10/asyncio/futures.py:201\u001b[0m, in \u001b[0;36mFuture.result\u001b[0;34m(self)\u001b[0m\n\u001b[1;32m    <a href='file:///Library/Frameworks/Python.framework/Versions/3.10/lib/python3.10/asyncio/futures.py?line=198'>199</a>\u001b[0m \u001b[39mself\u001b[39m\u001b[39m.\u001b[39m__log_traceback \u001b[39m=\u001b[39m \u001b[39mFalse\u001b[39;00m\n\u001b[1;32m    <a href='file:///Library/Frameworks/Python.framework/Versions/3.10/lib/python3.10/asyncio/futures.py?line=199'>200</a>\u001b[0m \u001b[39mif\u001b[39;00m \u001b[39mself\u001b[39m\u001b[39m.\u001b[39m_exception \u001b[39mis\u001b[39;00m \u001b[39mnot\u001b[39;00m \u001b[39mNone\u001b[39;00m:\n\u001b[0;32m--> <a href='file:///Library/Frameworks/Python.framework/Versions/3.10/lib/python3.10/asyncio/futures.py?line=200'>201</a>\u001b[0m     \u001b[39mraise\u001b[39;00m \u001b[39mself\u001b[39m\u001b[39m.\u001b[39m_exception\n\u001b[1;32m    <a href='file:///Library/Frameworks/Python.framework/Versions/3.10/lib/python3.10/asyncio/futures.py?line=201'>202</a>\u001b[0m \u001b[39mreturn\u001b[39;00m \u001b[39mself\u001b[39m\u001b[39m.\u001b[39m_result\n",
      "File \u001b[0;32m/Library/Frameworks/Python.framework/Versions/3.10/lib/python3.10/asyncio/tasks.py:232\u001b[0m, in \u001b[0;36mTask.__step\u001b[0;34m(***failed resolving arguments***)\u001b[0m\n\u001b[1;32m    <a href='file:///Library/Frameworks/Python.framework/Versions/3.10/lib/python3.10/asyncio/tasks.py?line=227'>228</a>\u001b[0m \u001b[39mtry\u001b[39;00m:\n\u001b[1;32m    <a href='file:///Library/Frameworks/Python.framework/Versions/3.10/lib/python3.10/asyncio/tasks.py?line=228'>229</a>\u001b[0m     \u001b[39mif\u001b[39;00m exc \u001b[39mis\u001b[39;00m \u001b[39mNone\u001b[39;00m:\n\u001b[1;32m    <a href='file:///Library/Frameworks/Python.framework/Versions/3.10/lib/python3.10/asyncio/tasks.py?line=229'>230</a>\u001b[0m         \u001b[39m# We use the `send` method directly, because coroutines\u001b[39;00m\n\u001b[1;32m    <a href='file:///Library/Frameworks/Python.framework/Versions/3.10/lib/python3.10/asyncio/tasks.py?line=230'>231</a>\u001b[0m         \u001b[39m# don't have `__iter__` and `__next__` methods.\u001b[39;00m\n\u001b[0;32m--> <a href='file:///Library/Frameworks/Python.framework/Versions/3.10/lib/python3.10/asyncio/tasks.py?line=231'>232</a>\u001b[0m         result \u001b[39m=\u001b[39m coro\u001b[39m.\u001b[39;49msend(\u001b[39mNone\u001b[39;49;00m)\n\u001b[1;32m    <a href='file:///Library/Frameworks/Python.framework/Versions/3.10/lib/python3.10/asyncio/tasks.py?line=232'>233</a>\u001b[0m     \u001b[39melse\u001b[39;00m:\n\u001b[1;32m    <a href='file:///Library/Frameworks/Python.framework/Versions/3.10/lib/python3.10/asyncio/tasks.py?line=233'>234</a>\u001b[0m         result \u001b[39m=\u001b[39m coro\u001b[39m.\u001b[39mthrow(exc)\n",
      "\u001b[1;32m/Users/adampesek/BinanceAPI.ipynb Cell 7'\u001b[0m in \u001b[0;36mmain\u001b[0;34m()\u001b[0m\n\u001b[1;32m      <a href='vscode-notebook-cell:/Users/adampesek/BinanceAPI.ipynb#ch0000006?line=2'>3</a>\u001b[0m bm \u001b[39m=\u001b[39m BinanceSocketManager(client)\n\u001b[1;32m      <a href='vscode-notebook-cell:/Users/adampesek/BinanceAPI.ipynb#ch0000006?line=3'>4</a>\u001b[0m \u001b[39m# start any sockets here, i.e a trade socket\u001b[39;00m\n\u001b[0;32m----> <a href='vscode-notebook-cell:/Users/adampesek/BinanceAPI.ipynb#ch0000006?line=4'>5</a>\u001b[0m ts \u001b[39m=\u001b[39m bm\u001b[39m.\u001b[39;49mtrade_socket(\u001b[39m'\u001b[39;49m\u001b[39mBNBBTC\u001b[39;49m\u001b[39m'\u001b[39;49m)\n\u001b[1;32m      <a href='vscode-notebook-cell:/Users/adampesek/BinanceAPI.ipynb#ch0000006?line=5'>6</a>\u001b[0m \u001b[39m# then start receiving messages\u001b[39;00m\n\u001b[1;32m      <a href='vscode-notebook-cell:/Users/adampesek/BinanceAPI.ipynb#ch0000006?line=6'>7</a>\u001b[0m \u001b[39masync\u001b[39;00m \u001b[39mwith\u001b[39;00m ts \u001b[39mas\u001b[39;00m tscm:\n",
      "File \u001b[0;32m/Library/Frameworks/Python.framework/Versions/3.10/lib/python3.10/site-packages/binance/streams.py:626\u001b[0m, in \u001b[0;36mBinanceSocketManager.trade_socket\u001b[0;34m(self, symbol)\u001b[0m\n\u001b[1;32m    <a href='file:///Library/Frameworks/Python.framework/Versions/3.10/lib/python3.10/site-packages/binance/streams.py?line=595'>596</a>\u001b[0m \u001b[39mdef\u001b[39;00m \u001b[39mtrade_socket\u001b[39m(\u001b[39mself\u001b[39m, symbol: \u001b[39mstr\u001b[39m):\n\u001b[1;32m    <a href='file:///Library/Frameworks/Python.framework/Versions/3.10/lib/python3.10/site-packages/binance/streams.py?line=596'>597</a>\u001b[0m     \u001b[39m\"\"\"Start a websocket for symbol trade data\u001b[39;00m\n\u001b[1;32m    <a href='file:///Library/Frameworks/Python.framework/Versions/3.10/lib/python3.10/site-packages/binance/streams.py?line=597'>598</a>\u001b[0m \n\u001b[1;32m    <a href='file:///Library/Frameworks/Python.framework/Versions/3.10/lib/python3.10/site-packages/binance/streams.py?line=598'>599</a>\u001b[0m \u001b[39m    https://github.com/binance-exchange/binance-official-api-docs/blob/master/web-socket-streams.md#trade-streams\u001b[39;00m\n\u001b[0;32m   (...)\u001b[0m\n\u001b[1;32m    <a href='file:///Library/Frameworks/Python.framework/Versions/3.10/lib/python3.10/site-packages/binance/streams.py?line=622'>623</a>\u001b[0m \n\u001b[1;32m    <a href='file:///Library/Frameworks/Python.framework/Versions/3.10/lib/python3.10/site-packages/binance/streams.py?line=623'>624</a>\u001b[0m \u001b[39m    \"\"\"\u001b[39;00m\n\u001b[0;32m--> <a href='file:///Library/Frameworks/Python.framework/Versions/3.10/lib/python3.10/site-packages/binance/streams.py?line=625'>626</a>\u001b[0m     \u001b[39mreturn\u001b[39;00m \u001b[39mself\u001b[39;49m\u001b[39m.\u001b[39;49m_get_socket(symbol\u001b[39m.\u001b[39;49mlower() \u001b[39m+\u001b[39;49m \u001b[39m'\u001b[39;49m\u001b[39m@trade\u001b[39;49m\u001b[39m'\u001b[39;49m)\n",
      "File \u001b[0;32m/Library/Frameworks/Python.framework/Versions/3.10/lib/python3.10/site-packages/binance/streams.py:346\u001b[0m, in \u001b[0;36mBinanceSocketManager._get_socket\u001b[0;34m(self, path, stream_url, prefix, is_binary, socket_type)\u001b[0m\n\u001b[1;32m    <a href='file:///Library/Frameworks/Python.framework/Versions/3.10/lib/python3.10/site-packages/binance/streams.py?line=343'>344</a>\u001b[0m conn_id \u001b[39m=\u001b[39m \u001b[39mf\u001b[39m\u001b[39m'\u001b[39m\u001b[39m{\u001b[39;00msocket_type\u001b[39m}\u001b[39;00m\u001b[39m_\u001b[39m\u001b[39m{\u001b[39;00mpath\u001b[39m}\u001b[39;00m\u001b[39m'\u001b[39m\n\u001b[1;32m    <a href='file:///Library/Frameworks/Python.framework/Versions/3.10/lib/python3.10/site-packages/binance/streams.py?line=344'>345</a>\u001b[0m \u001b[39mif\u001b[39;00m conn_id \u001b[39mnot\u001b[39;00m \u001b[39min\u001b[39;00m \u001b[39mself\u001b[39m\u001b[39m.\u001b[39m_conns:\n\u001b[0;32m--> <a href='file:///Library/Frameworks/Python.framework/Versions/3.10/lib/python3.10/site-packages/binance/streams.py?line=345'>346</a>\u001b[0m     \u001b[39mself\u001b[39m\u001b[39m.\u001b[39m_conns[conn_id] \u001b[39m=\u001b[39m ReconnectingWebsocket(\n\u001b[1;32m    <a href='file:///Library/Frameworks/Python.framework/Versions/3.10/lib/python3.10/site-packages/binance/streams.py?line=346'>347</a>\u001b[0m         loop\u001b[39m=\u001b[39;49m\u001b[39mself\u001b[39;49m\u001b[39m.\u001b[39;49m_loop,\n\u001b[1;32m    <a href='file:///Library/Frameworks/Python.framework/Versions/3.10/lib/python3.10/site-packages/binance/streams.py?line=347'>348</a>\u001b[0m         path\u001b[39m=\u001b[39;49mpath,\n\u001b[1;32m    <a href='file:///Library/Frameworks/Python.framework/Versions/3.10/lib/python3.10/site-packages/binance/streams.py?line=348'>349</a>\u001b[0m         url\u001b[39m=\u001b[39;49m\u001b[39mself\u001b[39;49m\u001b[39m.\u001b[39;49m_get_stream_url(stream_url),\n\u001b[1;32m    <a href='file:///Library/Frameworks/Python.framework/Versions/3.10/lib/python3.10/site-packages/binance/streams.py?line=349'>350</a>\u001b[0m         prefix\u001b[39m=\u001b[39;49mprefix,\n\u001b[1;32m    <a href='file:///Library/Frameworks/Python.framework/Versions/3.10/lib/python3.10/site-packages/binance/streams.py?line=350'>351</a>\u001b[0m         exit_coro\u001b[39m=\u001b[39;49m\u001b[39mself\u001b[39;49m\u001b[39m.\u001b[39;49m_exit_socket,\n\u001b[1;32m    <a href='file:///Library/Frameworks/Python.framework/Versions/3.10/lib/python3.10/site-packages/binance/streams.py?line=351'>352</a>\u001b[0m         is_binary\u001b[39m=\u001b[39;49mis_binary\n\u001b[1;32m    <a href='file:///Library/Frameworks/Python.framework/Versions/3.10/lib/python3.10/site-packages/binance/streams.py?line=352'>353</a>\u001b[0m     )\n\u001b[1;32m    <a href='file:///Library/Frameworks/Python.framework/Versions/3.10/lib/python3.10/site-packages/binance/streams.py?line=354'>355</a>\u001b[0m \u001b[39mreturn\u001b[39;00m \u001b[39mself\u001b[39m\u001b[39m.\u001b[39m_conns[conn_id]\n",
      "File \u001b[0;32m/Library/Frameworks/Python.framework/Versions/3.10/lib/python3.10/site-packages/binance/streams.py:62\u001b[0m, in \u001b[0;36mReconnectingWebsocket.__init__\u001b[0;34m(self, loop, url, path, prefix, is_binary, exit_coro)\u001b[0m\n\u001b[1;32m     <a href='file:///Library/Frameworks/Python.framework/Versions/3.10/lib/python3.10/site-packages/binance/streams.py?line=59'>60</a>\u001b[0m \u001b[39mself\u001b[39m\u001b[39m.\u001b[39mws: Optional[ws\u001b[39m.\u001b[39mWebSocketClientProtocol] \u001b[39m=\u001b[39m \u001b[39mNone\u001b[39;00m\n\u001b[1;32m     <a href='file:///Library/Frameworks/Python.framework/Versions/3.10/lib/python3.10/site-packages/binance/streams.py?line=60'>61</a>\u001b[0m \u001b[39mself\u001b[39m\u001b[39m.\u001b[39mws_state \u001b[39m=\u001b[39m WSListenerState\u001b[39m.\u001b[39mINITIALISING\n\u001b[0;32m---> <a href='file:///Library/Frameworks/Python.framework/Versions/3.10/lib/python3.10/site-packages/binance/streams.py?line=61'>62</a>\u001b[0m \u001b[39mself\u001b[39m\u001b[39m.\u001b[39m_queue \u001b[39m=\u001b[39m asyncio\u001b[39m.\u001b[39;49mQueue(loop\u001b[39m=\u001b[39;49m\u001b[39mself\u001b[39;49m\u001b[39m.\u001b[39;49m_loop)\n\u001b[1;32m     <a href='file:///Library/Frameworks/Python.framework/Versions/3.10/lib/python3.10/site-packages/binance/streams.py?line=62'>63</a>\u001b[0m \u001b[39mself\u001b[39m\u001b[39m.\u001b[39m_handle_read_loop \u001b[39m=\u001b[39m \u001b[39mNone\u001b[39;00m\n",
      "File \u001b[0;32m/Library/Frameworks/Python.framework/Versions/3.10/lib/python3.10/asyncio/queues.py:33\u001b[0m, in \u001b[0;36mQueue.__init__\u001b[0;34m(self, maxsize, loop)\u001b[0m\n\u001b[1;32m     <a href='file:///Library/Frameworks/Python.framework/Versions/3.10/lib/python3.10/asyncio/queues.py?line=31'>32</a>\u001b[0m \u001b[39mdef\u001b[39;00m \u001b[39m__init__\u001b[39m(\u001b[39mself\u001b[39m, maxsize\u001b[39m=\u001b[39m\u001b[39m0\u001b[39m, \u001b[39m*\u001b[39m, loop\u001b[39m=\u001b[39mmixins\u001b[39m.\u001b[39m_marker):\n\u001b[0;32m---> <a href='file:///Library/Frameworks/Python.framework/Versions/3.10/lib/python3.10/asyncio/queues.py?line=32'>33</a>\u001b[0m     \u001b[39msuper\u001b[39;49m()\u001b[39m.\u001b[39;49m\u001b[39m__init__\u001b[39;49m(loop\u001b[39m=\u001b[39;49mloop)\n\u001b[1;32m     <a href='file:///Library/Frameworks/Python.framework/Versions/3.10/lib/python3.10/asyncio/queues.py?line=33'>34</a>\u001b[0m     \u001b[39mself\u001b[39m\u001b[39m.\u001b[39m_maxsize \u001b[39m=\u001b[39m maxsize\n\u001b[1;32m     <a href='file:///Library/Frameworks/Python.framework/Versions/3.10/lib/python3.10/asyncio/queues.py?line=35'>36</a>\u001b[0m     \u001b[39m# Futures.\u001b[39;00m\n",
      "File \u001b[0;32m/Library/Frameworks/Python.framework/Versions/3.10/lib/python3.10/asyncio/mixins.py:17\u001b[0m, in \u001b[0;36m_LoopBoundMixin.__init__\u001b[0;34m(self, loop)\u001b[0m\n\u001b[1;32m     <a href='file:///Library/Frameworks/Python.framework/Versions/3.10/lib/python3.10/asyncio/mixins.py?line=14'>15</a>\u001b[0m \u001b[39mdef\u001b[39;00m \u001b[39m__init__\u001b[39m(\u001b[39mself\u001b[39m, \u001b[39m*\u001b[39m, loop\u001b[39m=\u001b[39m_marker):\n\u001b[1;32m     <a href='file:///Library/Frameworks/Python.framework/Versions/3.10/lib/python3.10/asyncio/mixins.py?line=15'>16</a>\u001b[0m     \u001b[39mif\u001b[39;00m loop \u001b[39mis\u001b[39;00m \u001b[39mnot\u001b[39;00m _marker:\n\u001b[0;32m---> <a href='file:///Library/Frameworks/Python.framework/Versions/3.10/lib/python3.10/asyncio/mixins.py?line=16'>17</a>\u001b[0m         \u001b[39mraise\u001b[39;00m \u001b[39mTypeError\u001b[39;00m(\n\u001b[1;32m     <a href='file:///Library/Frameworks/Python.framework/Versions/3.10/lib/python3.10/asyncio/mixins.py?line=17'>18</a>\u001b[0m             \u001b[39mf\u001b[39m\u001b[39m'\u001b[39m\u001b[39mAs of 3.10, the *loop* parameter was removed from \u001b[39m\u001b[39m'\u001b[39m\n\u001b[1;32m     <a href='file:///Library/Frameworks/Python.framework/Versions/3.10/lib/python3.10/asyncio/mixins.py?line=18'>19</a>\u001b[0m             \u001b[39mf\u001b[39m\u001b[39m'\u001b[39m\u001b[39m{\u001b[39;00m\u001b[39mtype\u001b[39m(\u001b[39mself\u001b[39m)\u001b[39m.\u001b[39m\u001b[39m__name__\u001b[39m\u001b[39m}\u001b[39;00m\u001b[39m() since it is no longer necessary\u001b[39m\u001b[39m'\u001b[39m\n\u001b[1;32m     <a href='file:///Library/Frameworks/Python.framework/Versions/3.10/lib/python3.10/asyncio/mixins.py?line=19'>20</a>\u001b[0m         )\n",
      "\u001b[0;31mTypeError\u001b[0m: As of 3.10, the *loop* parameter was removed from Queue() since it is no longer necessary"
     ]
    }
   ],
   "source": [
    "async def main():\n",
    "    client = await AsyncClient.create()\n",
    "    bm = BinanceSocketManager(client)\n",
    "    # start any sockets here, i.e a trade socket\n",
    "    ts = bm.trade_socket('BNBBTC')\n",
    "    # then start receiving messages\n",
    "    async with ts as tscm:\n",
    "        while True:\n",
    "            res = await tscm.recv()\n",
    "            print(res)\n",
    "            \n",
    "    await client.close_connection()\n",
    "    \n",
    "if __name__ == \"__main__\":\n",
    "\n",
    "    loop = asyncio.get_event_loop()\n",
    "    loop.run_until_complete(main())"
   ]
  },
  {
   "cell_type": "code",
   "execution_count": null,
   "id": "915cb96b-04b3-402f-ac2f-094fac9190d8",
   "metadata": {},
   "outputs": [],
   "source": []
  },
  {
   "cell_type": "code",
   "execution_count": null,
   "id": "b1081f05-0604-40e7-afec-851217b8bb7e",
   "metadata": {},
   "outputs": [],
   "source": []
  },
  {
   "cell_type": "code",
   "execution_count": null,
   "id": "26d3c758-b4e3-4705-8cab-4a3af39b2165",
   "metadata": {},
   "outputs": [],
   "source": []
  },
  {
   "cell_type": "code",
   "execution_count": null,
   "id": "65532f8d-b38d-40b2-8d2d-bfb6325e44cc",
   "metadata": {},
   "outputs": [],
   "source": []
  },
  {
   "cell_type": "code",
   "execution_count": null,
   "id": "2307bdf8-e97b-4ff1-9cbd-562579b01ec6",
   "metadata": {},
   "outputs": [],
   "source": [
    "fxpair = input(\"Please enter crypto trading pair without slash all uppercase: \"  )\n",
    "interval = input(\"Please enter time interval: \"  )\n",
    "kline = client.get_historical_klines(fxpair, interval,\"1 Jan, 2021\")\n",
    "df = pd.DataFrame(kline)\n",
    "df.columns = [\"Open Time\",\"Open\",\"High\",\"Low\", \"Close\", \"Volume\", \"Close Time\", \"Quote Asset Volume\",\"Number of trades\", \"TB Base Volume\", \"TB Quote Volume\", \"Ignore\"]\n",
    "df = df.drop('Ignore')\n",
    "df[\"Open Time\"]=pd.to_datetime(df[\"Open Time\"]/1000,unit=\"s\")\n",
    "df[\"Close Time\"]=pd.to_datetime(df[\"Close Time\"]/1000,unit=\"s\")\n",
    "numeric_columns = [\"Open\",\"High\",\"Low\", \"Close\", \"Volume\",\"Quote Asset Volume\",\"TB Base Volume\", \"TB Quote Volume\"]\n",
    "df[numeric_columns]=df[numeric_columns].apply(pd.to_numeric,axis=1)"
   ]
  },
  {
   "cell_type": "code",
   "execution_count": null,
   "id": "72d2202a-3e1a-4f8d-8922-62be47c937be",
   "metadata": {
    "tags": []
   },
   "outputs": [],
   "source": [
    "df[\"Year\"] = df[\"Open Time\"].dt.year\n",
    "df[\"Month\"] = df[\"Open Time\"].dt.month\n",
    "df[\"Day\"] = df[\"Open Time\"].dt.day\n",
    "df[\"Hour\"] = df[\"Open Time\"].dt.hour\n",
    "df[\"Minute\"] = df[\"Open Time\"].dt.minute\n",
    "df[\"Second\"] = df[\"Open Time\"].dt.second\n",
    "#df.set_index(\"Open Time\",inplace=True)\n",
    "print(df.head())"
   ]
  },
  {
   "cell_type": "code",
   "execution_count": null,
   "id": "f52f769d-958c-479e-855c-fffdae967389",
   "metadata": {},
   "outputs": [],
   "source": [
    "sns.lineplot(x=\"Open Time\",y=\"Close\",data=df)\n",
    "plt.show()"
   ]
  },
  {
   "cell_type": "code",
   "execution_count": null,
   "id": "9c2a2f95-7859-4a9d-a70d-b39db451f80f",
   "metadata": {
    "tags": []
   },
   "outputs": [],
   "source": [
    "print(df.groupby(\"Day\").mean())"
   ]
  },
  {
   "cell_type": "code",
   "execution_count": null,
   "id": "ecc6b616-a84c-4113-bfdf-aae04afd3753",
   "metadata": {},
   "outputs": [],
   "source": [
    "df = ta.add_all_ta_features(df, open=\"Open\", high=\"High\", low=\"Low\", close=\"Close\", volume=\"Volume\")"
   ]
  },
  {
   "cell_type": "code",
   "execution_count": null,
   "id": "531a4939-d8a6-4416-92b6-774059620b2a",
   "metadata": {},
   "outputs": [],
   "source": []
  },
  {
   "cell_type": "code",
   "execution_count": null,
   "id": "5e68ee98-28c4-4a97-aae3-551ebec20f3d",
   "metadata": {},
   "outputs": [],
   "source": []
  },
  {
   "cell_type": "code",
   "execution_count": null,
   "id": "9e24f96c-0cd9-4ada-b042-6b374e9f78b0",
   "metadata": {},
   "outputs": [],
   "source": []
  },
  {
   "cell_type": "code",
   "execution_count": null,
   "id": "955b593c-f445-4881-93c1-8a5786634893",
   "metadata": {},
   "outputs": [],
   "source": [
    "from binance.client import Client\n",
    "import numpy as np\n",
    "import pandas as pd\n",
    "import matplotlib.pyplot as pyplot\n",
    "import seaborn as sns"
   ]
  },
  {
   "cell_type": "code",
   "execution_count": null,
   "id": "d9236216-f232-49c7-bd1d-d1c9ca35cb3a",
   "metadata": {},
   "outputs": [],
   "source": [
    "fxpair = input(\"Please enter crypto trading pair without slash all uppercase: \"  )\n",
    "#interval = input(\"Please enther time interval: \"  )\n",
    "kline = client.get_historical_klines(fxpair, Client.KLINE_INTERVAL_30MINUTE,\"1 Jan, 2021\")\n",
    "df = pd.DataFrame(kline)\n",
    "df.columns = [\"Open Time\",\"Open\",\"High\",\"Low\", \"Close\", \"Volume\", \"Close Time\", \"Quote Asset Volume\",\"Number of trades\", \"TB Base Volume\", \"TB Quote Volume\", \"Ignore\"]\n",
    "df[\"Open Time\"]=pd.to_datetime(df[\"Open Time\"]/1000,unit=\"s\")\n",
    "df[\"Close Time\"]=pd.to_datetime(df[\"Close Time\"]/1000,unit=\"s\")\n",
    "numeric_columns = [\"Open\",\"High\",\"Low\", \"Close\", \"Volume\",\"Quote Asset Volume\",\"TB Base Volume\", \"TB Quote Volume\"]\n",
    "df[numeric_columns]=df[numeric_columns].apply(pd.to_numeric,axis=1)\n",
    "df.set_index(\"Open Time\",inplace=True)\n",
    "print(df.head(5))"
   ]
  },
  {
   "cell_type": "code",
   "execution_count": null,
   "id": "2f8369a3-4335-4406-ad2e-1a5bbd341b15",
   "metadata": {},
   "outputs": [],
   "source": [
    "key = \"yy6YUWGLpkwZKdkxie6XCpLYAAEnkTm3ab27fbPcT5VtwQAXZFu1iDglGKA2bUak\"\n",
    "secret = \"s5nvlXixNMECEfSEp4eX4wU7uv1nKVfG1iXGmk84EdjfwhQOb3jtL6Y8wdgF46Kj\"\n",
    "client = Client(key, secret)"
   ]
  }
 ],
 "metadata": {
  "kernelspec": {
   "display_name": "Python 3 (ipykernel)",
   "language": "python",
   "name": "python3"
  },
  "language_info": {
   "codemirror_mode": {
    "name": "ipython",
    "version": 3
   },
   "file_extension": ".py",
   "mimetype": "text/x-python",
   "name": "python",
   "nbconvert_exporter": "python",
   "pygments_lexer": "ipython3",
   "version": "3.10.2"
  }
 },
 "nbformat": 4,
 "nbformat_minor": 5
}
